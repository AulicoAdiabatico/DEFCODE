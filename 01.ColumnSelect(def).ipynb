{
 "cells": [
  {
   "cell_type": "code",
   "execution_count": null,
   "metadata": {},
   "outputs": [],
   "source": [
    "import csv\n",
    "import numpy as np\n",
    "import pandas as pd\n",
    "from pandas import DataFrame as df"
   ]
  },
  {
   "cell_type": "code",
   "execution_count": null,
   "metadata": {},
   "outputs": [],
   "source": [
    "with open('./Settings/Data/Default/OC_UVES_iDR5.csv') as input_csv:\n",
    "    reader=csv.reader(input_csv, delimiter=',')\n",
    "    head=next(reader)\n",
    "    #print(head)\n",
    "    autoselected=[]\n",
    "    for i in range(0,len(head)):\n",
    "        a=len(head[i])\n",
    "        if a<=3:\n",
    "            autoselected.append(i)\n",
    "        else:\n",
    "            pass\n",
    "    #print(autoselected)\n",
    "    manualselected=[0,1,14,15,20,21,43,48,49,53,54,56,57,58,59,60]\n",
    "    selected=np.append(autoselected,manualselected)\n",
    "    selected=np.sort(selected)\n",
    "    print(selected)"
   ]
  },
  {
   "cell_type": "code",
   "execution_count": null,
   "metadata": {},
   "outputs": [],
   "source": [
    "data_raw=pd.read_csv('./Settings/Data/Default/OC_UVES_iDR5.csv',low_memory=False)\n",
    "headers=[]\n",
    "for i in range(0,len(selected)):\n",
    "    headers.append(head[selected[i]])\n",
    "data_select=data_raw[headers]\n",
    "data_select.to_csv('./Settings/Data/data_select.csv',index=False)"
   ]
  },
  {
   "cell_type": "code",
   "execution_count": null,
   "metadata": {},
   "outputs": [],
   "source": []
  }
 ],
 "metadata": {
  "kernelspec": {
   "display_name": "Python 3",
   "language": "python",
   "name": "python3"
  },
  "language_info": {
   "codemirror_mode": {
    "name": "ipython",
    "version": 3
   },
   "file_extension": ".py",
   "mimetype": "text/x-python",
   "name": "python",
   "nbconvert_exporter": "python",
   "pygments_lexer": "ipython3",
   "version": "3.7.6"
  }
 },
 "nbformat": 4,
 "nbformat_minor": 4
}
